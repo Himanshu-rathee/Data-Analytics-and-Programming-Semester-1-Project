{
 "cells": [
  {
   "cell_type": "markdown",
   "metadata": {},
   "source": [
    "# PART : Fetching data from API and Inserting into MongoDB"
   ]
  },
  {
   "cell_type": "markdown",
   "metadata": {},
   "source": [
    "### Importing essential libraries"
   ]
  },
  {
   "cell_type": "code",
   "execution_count": 1,
   "metadata": {},
   "outputs": [
    {
     "name": "stdout",
     "output_type": "stream",
     "text": [
      "Imported all the required libraries\n"
     ]
    }
   ],
   "source": [
    "import requests\n",
    "from sodapy import Socrata\n",
    "from pymongo import MongoClient\n",
    "import sys\n",
    "print(\"Imported all the required libraries\")"
   ]
  },
  {
   "cell_type": "markdown",
   "metadata": {},
   "source": [
    "### Fetching data from API "
   ]
  },
  {
   "cell_type": "code",
   "execution_count": 7,
   "metadata": {
    "scrolled": false
   },
   "outputs": [
    {
     "name": "stdout",
     "output_type": "stream",
     "text": [
      "File imported successfully\n"
     ]
    }
   ],
   "source": [
    "try:\n",
    "    client = Socrata(\"data.medicare.gov\", \"TeKcMRRNIEgHqcTM3vybaqF5V\")\n",
    "    mhs1 = client.get(\"nrth-mfg3\",limit=20000)   \n",
    "    cnd1 = client.get(\"ynj2-r877\",limit=20000)    \n",
    "    hd1 = client.get(\"r5ix-sfxw\",limit=20000)\n",
    "    pvc1 = client.get(\"c7us-v4mf\",limit=20000)\n",
    "except:\n",
    "    print(\"Some error\".format(sys.exc_info()[1]))\n",
    "else:\n",
    "    print(\"File imported successfully\")"
   ]
  },
  {
   "cell_type": "markdown",
   "metadata": {},
   "source": [
    "### Creating connection with MongoDB"
   ]
  },
  {
   "cell_type": "code",
   "execution_count": 8,
   "metadata": {},
   "outputs": [
    {
     "name": "stdout",
     "output_type": "stream",
     "text": [
      "MongoDB instance initialized!\n"
     ]
    }
   ],
   "source": [
    "try:\n",
    "    db_cl = MongoClient('192.168.56.30', 27017)\n",
    "    db = db_cl['DAP_Project']\n",
    "except:\n",
    "    print(\"Failed to initialise- {}\".format(sys.exc_info()[1]))\n",
    "else:\n",
    "    print(\"MongoDB instance initialized!\")"
   ]
  },
  {
   "cell_type": "markdown",
   "metadata": {},
   "source": [
    "### Inserting data into MongoDB"
   ]
  },
  {
   "cell_type": "code",
   "execution_count": 9,
   "metadata": {},
   "outputs": [
    {
     "name": "stdout",
     "output_type": "stream",
     "text": [
      "Removing collections if already present\n",
      "Insertion of Medicare Hospitality Spending by Claim dataset done\n",
      "Insertion of Complications and Deaths dataset done\n",
      "Insertion of Health Deficiencies dataset done\n",
      "Insertion of Payment and value of care dataset done\n"
     ]
    }
   ],
   "source": [
    "collect_mhs = db[\"mhs\"]\n",
    "collect_cnd = db[\"cnd\"]\n",
    "collect_hd = db[\"hd\"]\n",
    "collect_pvc = db[\"pvc\"]\n",
    "try:\n",
    "    print(\"Removing collections if already present\")\n",
    "    if 'mhs' in db.list_collection_names() :\n",
    "        collect_mhs.drop()\n",
    "        print(\"Dropped collection mhs\")\n",
    "    if 'cnd' in db.list_collection_names() :\n",
    "        collect_cnd.drop()\n",
    "        print(\"Dropped collection cnd\")\n",
    "    if 'mhs' in db.list_collection_names() :\n",
    "        collect_hd.drop()\n",
    "        print(\"Dropped collection hd\")\n",
    "    if 'mhs' in db.list_collection_names() :\n",
    "        collect_pvc.drop()\n",
    "        print(\"Dropped collection pvc\")\n",
    "    collect_mhs.insert_many(mhs1)\n",
    "    print(\"Insertion of Medicare Hospitality Spending by Claim dataset done\")\n",
    "    collect_cnd.insert_many(cnd1)\n",
    "    print(\"Insertion of Complications and Deaths dataset done\")\n",
    "    collect_hd.insert_many(hd1)\n",
    "    print(\"Insertion of Health Deficiencies dataset done\")\n",
    "    collect_pvc.insert_many(pvc1)\n",
    "    print(\"Insertion of Payment and value of care dataset done\")\n",
    "except:\n",
    "    print(\"Failed to connect to MongoDB- {}\".format(sys.exc_info()[1]))"
   ]
  },
  {
   "cell_type": "markdown",
   "metadata": {},
   "source": [
    "### Checking if the data is properly stored in MongoDB"
   ]
  },
  {
   "cell_type": "code",
   "execution_count": 10,
   "metadata": {},
   "outputs": [
    {
     "name": "stdout",
     "output_type": "stream",
     "text": [
      "Size of collection/ number of documents : \n",
      " Medicare Hospitality Spending by Claim : 20000\n",
      " Complications and Deaths : 20000\n",
      " Health Deficiencies : 20000\n",
      " Payment and value of care : 18824\n",
      "\n",
      "Structure of documents : \n",
      " Medicare Hospitality Spending by Claim : ['_id', 'provider_number', 'hospital_name', 'state', 'period', 'claim_type', 'avg_spending_per_episode_hospital', 'avg_spending_per_episode_state', 'avg_spending_per_episode_nation', 'percent_of_spending_hospital', 'percent_of_spending_state', 'percent_of_spending_nation', 'start_date', 'end_date']\n",
      "\n",
      " Complications and Deaths : ['_id', 'provider_id', 'hospital_name', 'address', 'city', 'state', 'zip_code', 'county_name', 'phone_number', 'measure_id', 'measure_name', 'compared_to_national', 'denominator', 'score', 'lower_estimate', 'higher_estimate', 'measure_start_date', 'measure_end_date']\n",
      "\n",
      " Health Deficiencies : ['_id', 'federal_provider_number', 'provider_name', 'provider_address', 'provider_city', 'provider_state', 'provider_zip_code', 'survey_date', 'survey_type', 'deficiency_prefix', 'deficiency_category', 'deficiency_description', 'deficiency_tag_number', 'scope_severity_code', 'deficiency_corrected', 'correction_date', 'inspection_cycle', 'standard_deficiency', 'complaint_deficiency', 'processing_date']\n",
      "\n",
      " Payment and value of care : ['_id', 'provider_id', 'hospital_name', 'address', 'city', 'state', 'zip_code', 'county_name', 'phone_number', 'measure_id', 'measure_name', 'category', 'denominator', 'payment', 'lower_estimate', 'higher_estimate', 'value_of_care_display_name', 'value_of_care_display_id', 'value_of_care_category', 'measure_start_date', 'measure_end_date', 'geocoded_column', ':@computed_region_f3tr_pr43', ':@computed_region_nwen_78xc', ':@computed_region_csmy_5jwy']\n",
      "\n"
     ]
    }
   ],
   "source": [
    "print(\"Size of collection/ number of documents : \")\n",
    "print(f\" Medicare Hospitality Spending by Claim : {db['mhs'].count_documents({})}\")\n",
    "print(f\" Complications and Deaths : {db['cnd'].count_documents({})}\")\n",
    "print(f\" Health Deficiencies : {db['hd'].count_documents({})}\")\n",
    "print(f\" Payment and value of care : {db['pvc'].count_documents({})}\")\n",
    "print(\"\\nStructure of documents : \")\n",
    "print(f\" Medicare Hospitality Spending by Claim : {list(db['mhs'].find_one().keys())}\\n\")\n",
    "print(f\" Complications and Deaths : {list(db['cnd'].find_one().keys())}\\n\")\n",
    "print(f\" Health Deficiencies : {list(db['hd'].find_one().keys())}\\n\")\n",
    "print(f\" Payment and value of care : {list(db['pvc'].find_one().keys())}\\n\")"
   ]
  },
  {
   "cell_type": "code",
   "execution_count": null,
   "metadata": {},
   "outputs": [],
   "source": []
  }
 ],
 "metadata": {
  "kernelspec": {
   "display_name": "Python 3",
   "language": "python",
   "name": "python3"
  },
  "language_info": {
   "codemirror_mode": {
    "name": "ipython",
    "version": 3
   },
   "file_extension": ".py",
   "mimetype": "text/x-python",
   "name": "python",
   "nbconvert_exporter": "python",
   "pygments_lexer": "ipython3",
   "version": "3.8.3"
  },
  "toc": {
   "base_numbering": 1,
   "nav_menu": {},
   "number_sections": true,
   "sideBar": true,
   "skip_h1_title": false,
   "title_cell": "Table of Contents",
   "title_sidebar": "Contents",
   "toc_cell": false,
   "toc_position": {},
   "toc_section_display": true,
   "toc_window_display": false
  }
 },
 "nbformat": 4,
 "nbformat_minor": 4
}
