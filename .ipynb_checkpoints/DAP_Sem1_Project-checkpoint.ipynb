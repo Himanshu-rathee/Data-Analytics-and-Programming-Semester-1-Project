{
 "cells": [
  {
   "cell_type": "markdown",
   "metadata": {},
   "source": [
    "# PART : Fetching data from API and Inserting into MongoDB"
   ]
  },
  {
   "cell_type": "markdown",
   "metadata": {},
   "source": [
    "### Importing essential libraries"
   ]
  },
  {
   "cell_type": "code",
   "execution_count": 1,
   "metadata": {},
   "outputs": [
    {
     "name": "stdout",
     "output_type": "stream",
     "text": [
      "Imported all the required libraries\n"
     ]
    }
   ],
   "source": [
    "import requests\n",
    "from sodapy import Socrata\n",
    "from pymongo import MongoClient\n",
    "import sys\n",
    "print(\"Imported all the required libraries\")"
   ]
  },
  {
   "cell_type": "markdown",
   "metadata": {},
   "source": [
    "### Fetching data from API "
   ]
  },
  {
   "cell_type": "code",
   "execution_count": 6,
   "metadata": {
    "scrolled": false
   },
   "outputs": [
    {
     "name": "stdout",
     "output_type": "stream",
     "text": [
      "File imported successfully\n"
     ]
    },
    {
     "data": {
      "text/plain": [
       "20000"
      ]
     },
     "execution_count": 6,
     "metadata": {},
     "output_type": "execute_result"
    }
   ],
   "source": [
    "try:\n",
    "    client = Socrata(\"data.medicare.gov\", \"TeKcMRRNIEgHqcTM3vybaqF5V\")\n",
    "    mhs1 = client.get(\"nrth-mfg3\",limit=20000)   \n",
    "    cnd1 = client.get(\"ynj2-r877\",limit=20000)    \n",
    "    hd1 = client.get(\"r5ix-sfxw\",limit=20000)\n",
    "    pvc1 = client.get(\"c7us-v4mf\",limit=20000)\n",
    "except:\n",
    "    print(\"Some error\".format(sys.exc_info()[1]))\n",
    "else:\n",
    "    print(\"File imported successfully\")\n",
    "\n",
    "len(mhs1)"
   ]
  },
  {
   "cell_type": "markdown",
   "metadata": {},
   "source": [
    "### Creating connection with MongoDB"
   ]
  },
  {
   "cell_type": "code",
   "execution_count": 3,
   "metadata": {},
   "outputs": [
    {
     "name": "stdout",
     "output_type": "stream",
     "text": [
      "MongoDB instance initialized!\n"
     ]
    }
   ],
   "source": [
    "try:\n",
    "    db_cl = MongoClient('192.168.56.30', 27017)\n",
    "    db = db_cl['DAP_ProjectDB']\n",
    "except:\n",
    "    print(\"Failed to initialise- {}\".format(sys.exc_info()[1]))\n",
    "else:\n",
    "    print(\"MongoDB instance initialized!\")"
   ]
  },
  {
   "cell_type": "markdown",
   "metadata": {},
   "source": [
    "### Inserting data into MongoDB"
   ]
  },
  {
   "cell_type": "code",
   "execution_count": 4,
   "metadata": {},
   "outputs": [
    {
     "name": "stdout",
     "output_type": "stream",
     "text": [
      "Removing collections if already present\n",
      "Insertion into collection mhs done\n"
     ]
    }
   ],
   "source": [
    "collection_mhs = db[\"mhs\"]\n",
    "try:\n",
    "    print(\"Removing collections if already present\")\n",
    "    if 'mhs' in db.list_collection_names() :\n",
    "        collection_mhs.drop()\n",
    "        print(\"Dropped collection mhs\")\n",
    "    collection_mhs.insert_many(mhs1)\n",
    "    print(\"Insertion into collection mhs done\")\n",
    "except:\n",
    "    print(\"Failed to connect to MongoDB- {}\".format(sys.exc_info()[1]))"
   ]
  },
  {
   "cell_type": "markdown",
   "metadata": {},
   "source": [
    "### Checking if the data is properly stored in MongoDB"
   ]
  },
  {
   "cell_type": "code",
   "execution_count": 5,
   "metadata": {},
   "outputs": [
    {
     "name": "stdout",
     "output_type": "stream",
     "text": [
      "Size of collection/ number of documents : \n",
      " mhs : 20000\n",
      "\n",
      "Structure of documents : \n",
      " mhs : ['_id', 'provider_number', 'hospital_name', 'state', 'period', 'claim_type', 'avg_spending_per_episode_hospital', 'avg_spending_per_episode_state', 'avg_spending_per_episode_nation', 'percent_of_spending_hospital', 'percent_of_spending_state', 'percent_of_spending_nation', 'start_date', 'end_date']\n",
      "\n"
     ]
    }
   ],
   "source": [
    "print(\"Size of collection/ number of documents : \")\n",
    "print(f\" mhs : {db['mhs'].count_documents({})}\")\n",
    "print(\"\\nStructure of documents : \")\n",
    "print(f\" mhs : {list(db['mhs'].find_one().keys())}\\n\")"
   ]
  },
  {
   "cell_type": "code",
   "execution_count": null,
   "metadata": {},
   "outputs": [],
   "source": []
  }
 ],
 "metadata": {
  "kernelspec": {
   "display_name": "Python 3",
   "language": "python",
   "name": "python3"
  },
  "language_info": {
   "codemirror_mode": {
    "name": "ipython",
    "version": 3
   },
   "file_extension": ".py",
   "mimetype": "text/x-python",
   "name": "python",
   "nbconvert_exporter": "python",
   "pygments_lexer": "ipython3",
   "version": "3.8.3"
  },
  "toc": {
   "base_numbering": 1,
   "nav_menu": {},
   "number_sections": true,
   "sideBar": true,
   "skip_h1_title": false,
   "title_cell": "Table of Contents",
   "title_sidebar": "Contents",
   "toc_cell": false,
   "toc_position": {},
   "toc_section_display": true,
   "toc_window_display": false
  }
 },
 "nbformat": 4,
 "nbformat_minor": 4
}
