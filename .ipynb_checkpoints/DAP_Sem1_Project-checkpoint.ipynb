{
 "cells": [
  {
   "cell_type": "code",
   "execution_count": 3,
   "metadata": {},
   "outputs": [
    {
     "name": "stdout",
     "output_type": "stream",
     "text": [
      "Imported all the required libraries\n"
     ]
    }
   ],
   "source": [
    "import requests\n",
    "from sodapy import Socrata\n",
    "from pymongo import MongoClient\n",
    "import sys\n",
    "print(\"Imported all the required libraries\")"
   ]
  },
  {
   "cell_type": "code",
   "execution_count": 27,
   "metadata": {
    "scrolled": false
   },
   "outputs": [
    {
     "name": "stdout",
     "output_type": "stream",
     "text": [
      "File imported successfully\n"
     ]
    },
    {
     "data": {
      "text/plain": [
       "500"
      ]
     },
     "execution_count": 27,
     "metadata": {},
     "output_type": "execute_result"
    }
   ],
   "source": [
    "try:\n",
    "    res = requests.get(\"https://data.cms.gov/provider-data/api/1/datastore/sql?query=%5BSELECT%20%2A%20FROM%20ede5e3ad-1411-5147-8c76-dc9e60676bdb%5D%3B\");\n",
    "    mhs1 = res.json();\n",
    "except:\n",
    "    print(\"Some error\".format(sys.exc_info()[1]))\n",
    "else:\n",
    "    print(\"File imported successfully\")\n",
    "\n",
    "len(mhs1)"
   ]
  },
  {
   "cell_type": "code",
   "execution_count": 22,
   "metadata": {},
   "outputs": [
    {
     "name": "stdout",
     "output_type": "stream",
     "text": [
      "MongoDB instance initialized!\n"
     ]
    }
   ],
   "source": [
    "try:\n",
    "    db_cl = MongoClient('192.168.56.30', 27017)\n",
    "    db = db_cl['DAP_ProjectDB']\n",
    "except:\n",
    "    print(\"Failed to initialise- {}\".format(sys.exc_info()[1]))\n",
    "else:\n",
    "    print(\"MongoDB instance initialized!\")"
   ]
  },
  {
   "cell_type": "code",
   "execution_count": 25,
   "metadata": {},
   "outputs": [
    {
     "name": "stdout",
     "output_type": "stream",
     "text": [
      "Removing collections if already present\n",
      "Insertion into collection mhs done\n"
     ]
    }
   ],
   "source": [
    "collection_mhs = db[\"mhs\"]\n",
    "try:\n",
    "    print(\"Removing collections if already present\")\n",
    "    if 'mhs' in db.list_collection_names() :\n",
    "        collection_mhs.drop()\n",
    "        print(\"Dropped collection mhs\")\n",
    "    collection_mhs.insert_many(mhs1)\n",
    "    print(\"Insertion into collection mhs done\")\n",
    "except:\n",
    "    print(\"Failed to connect to MongoDB- {}\".format(sys.exc_info()[1]))"
   ]
  },
  {
   "cell_type": "code",
   "execution_count": 26,
   "metadata": {},
   "outputs": [
    {
     "name": "stdout",
     "output_type": "stream",
     "text": [
      "Size of collection/ number of documents : \n",
      " mhs : 500\n",
      "\n",
      "Structure of documents : \n",
      " mhs : ['_id', 'Facility Name', 'Facility ID', 'State', 'Period', 'Claim Type', 'Avg Spndg Per EP Hospital', 'Avg Spndg Per EP State', 'Avg Spndg Per EP National', 'Percent of Spndg Hospital', 'Percent of Spndg State', 'Percent of Spndg National', 'Start Date', 'End Date']\n",
      "\n"
     ]
    }
   ],
   "source": [
    "print(\"Size of collection/ number of documents : \")\n",
    "print(f\" mhs : {db['mhs'].count_documents({})}\")\n",
    "print(\"\\nStructure of documents : \")\n",
    "print(f\" mhs : {list(db['mhs'].find_one().keys())}\\n\")"
   ]
  },
  {
   "cell_type": "code",
   "execution_count": null,
   "metadata": {},
   "outputs": [],
   "source": []
  }
 ],
 "metadata": {
  "kernelspec": {
   "display_name": "Python 3",
   "language": "python",
   "name": "python3"
  },
  "language_info": {
   "codemirror_mode": {
    "name": "ipython",
    "version": 3
   },
   "file_extension": ".py",
   "mimetype": "text/x-python",
   "name": "python",
   "nbconvert_exporter": "python",
   "pygments_lexer": "ipython3",
   "version": "3.8.3"
  },
  "toc": {
   "base_numbering": 1,
   "nav_menu": {},
   "number_sections": true,
   "sideBar": true,
   "skip_h1_title": false,
   "title_cell": "Table of Contents",
   "title_sidebar": "Contents",
   "toc_cell": false,
   "toc_position": {},
   "toc_section_display": true,
   "toc_window_display": false
  }
 },
 "nbformat": 4,
 "nbformat_minor": 4
}
